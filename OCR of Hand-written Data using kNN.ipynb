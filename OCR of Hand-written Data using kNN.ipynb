{
 "cells": [
  {
   "cell_type": "code",
   "execution_count": 18,
   "metadata": {
    "collapsed": true
   },
   "outputs": [],
   "source": [
    "import numpy as np\n",
    "import cv2 as cv\n",
    "from matplotlib import pyplot as plt\n",
    "img = cv.imread('digits.png')\n",
    "gray = cv.cvtColor(img,cv.COLOR_BGR2GRAY)"
   ]
  },
  {
   "cell_type": "code",
   "execution_count": 19,
   "metadata": {
    "collapsed": true
   },
   "outputs": [],
   "source": [
    "# Now we split the image to 5000 cells, each 20*20 size\n",
    "cells = [np.hsplit(row,100) for row in np.vsplit(gray,50)]"
   ]
  },
  {
   "cell_type": "code",
   "execution_count": 20,
   "metadata": {
    "collapsed": true
   },
   "outputs": [],
   "source": [
    "# Make it into a Numpy array. It size will be (50,100,20,20)\n",
    "x = np.array(cells)"
   ]
  },
  {
   "cell_type": "code",
   "execution_count": 21,
   "metadata": {},
   "outputs": [
    {
     "name": "stdout",
     "output_type": "stream",
     "text": [
      "(4500, 400)\n",
      "(500, 400)\n"
     ]
    }
   ],
   "source": [
    "# Now we prepare train_data and test_data\n",
    "train = x[:,:90].reshape(-1,400).astype(np.float32)\n",
    "test = x[:,90:100].reshape(-1,400).astype(np.float32)\n",
    "print(train.shape)\n",
    "print(test.shape)"
   ]
  },
  {
   "cell_type": "code",
   "execution_count": 22,
   "metadata": {},
   "outputs": [
    {
     "name": "stdout",
     "output_type": "stream",
     "text": [
      "(4500, 1)\n",
      "(500, 1)\n"
     ]
    }
   ],
   "source": [
    "#Create labels for train and test data\n",
    "k = np.arange(10)\n",
    "train_labels = np.repeat(k,450)[:,np.newaxis]\n",
    "test_labels = np.repeat(k,50)[:,np.newaxis]\n",
    "print(train_labels.shape)\n",
    "print(test_labels.shape)"
   ]
  },
  {
   "cell_type": "code",
   "execution_count": 23,
   "metadata": {
    "collapsed": true
   },
   "outputs": [],
   "source": [
    "# Initiate kNN, train the data, then test it with test data for k=1\n",
    "knn = cv.ml.KNearest_create()\n",
    "knn.train(train,cv.ml.ROW_SAMPLE,train_labels)\n",
    "ret, result, neighbours, dist = knn.findNearest(test,k=5)"
   ]
  },
  {
   "cell_type": "code",
   "execution_count": 24,
   "metadata": {},
   "outputs": [
    {
     "name": "stdout",
     "output_type": "stream",
     "text": [
      "94.2\n"
     ]
    }
   ],
   "source": [
    "# Now we check the accuracy of classification\n",
    "# For that, compare the result with test_labels and check which are wrong\n",
    "matches = result==test_labels\n",
    "correct = np.count_nonzero(matches)\n",
    "accuracy = correct*100.0/result.size\n",
    "print(accuracy)"
   ]
  },
  {
   "cell_type": "code",
   "execution_count": 25,
   "metadata": {},
   "outputs": [
    {
     "name": "stdout",
     "output_type": "stream",
     "text": [
      "['train_labels', 'train']\n"
     ]
    }
   ],
   "source": [
    "# save the data\n",
    "np.savez('knn_data.npz',train=train,train_labels=train_labels)\n",
    "# Now load the data\n",
    "with np.load('knn_data.npz') as data:\n",
    "    print(data.files)\n",
    "    train = data['train']\n",
    "    train_labels = data['train_labels']"
   ]
  },
  {
   "cell_type": "code",
   "execution_count": 2,
   "metadata": {},
   "outputs": [
    {
     "name": "stdout",
     "output_type": "stream",
     "text": [
      "93.06\n"
     ]
    }
   ],
   "source": [
    "import cv2 as cv\n",
    "import numpy as np\n",
    "import matplotlib.pyplot as plt\n",
    "# Load the data, converters convert the letter to a number\n",
    "data = np.loadtxt('letter-recognition.data',dtype='float32',delimiter=',',converters = {0:lambda ch:ord(ch)-ord('A')})\n",
    "# Split trainData and testData to features and responses\n",
    "train, test = np.vsplit(data,2)\n",
    "# split trainData and teatData to features and responses\n",
    "responses, trainData = np.hsplit(train,[1])\n",
    "labels, testData = np.hsplit(test,[1])\n",
    "# Initiate the kNN, classify, measure accuracy\n",
    "knn = cv.ml.KNearest_create()\n",
    "knn.train(trainData,cv.ml.ROW_SAMPLE,responses)\n",
    "ret, result, neighbours, dist = knn.findNearest(testData,k=5)\n",
    "correct = np. count_nonzero(result==labels)\n",
    "accuracy = correct*100.0/10000\n",
    "print(accuracy)"
   ]
  },
  {
   "cell_type": "code",
   "execution_count": null,
   "metadata": {
    "collapsed": true
   },
   "outputs": [],
   "source": []
  }
 ],
 "metadata": {
  "kernelspec": {
   "display_name": "Python 2",
   "language": "python",
   "name": "python2"
  },
  "language_info": {
   "codemirror_mode": {
    "name": "ipython",
    "version": 2
   },
   "file_extension": ".py",
   "mimetype": "text/x-python",
   "name": "python",
   "nbconvert_exporter": "python",
   "pygments_lexer": "ipython2",
   "version": "2.7.13"
  }
 },
 "nbformat": 4,
 "nbformat_minor": 2
}
