{
 "cells": [
  {
   "cell_type": "code",
   "execution_count": 16,
   "metadata": {},
   "outputs": [
    {
     "data": {
      "image/png": "[encoded data removed]",
      "text/plain": [
       "<matplotlib.figure.Figure at 0x7fc4b8afdc90>"
      ]
     },
     "metadata": {},
     "output_type": "display_data"
    }
   ],
   "source": [
    "import numpy as np\n",
    "import cv2 as cv\n",
    "from matplotlib import pyplot as plt\n",
    "img = cv.imread('j.png',0)\n",
    "img2 = cv.imread('opening.png',0)\n",
    "img3 = cv.imread('closing.png',0)\n",
    "kernel = np.ones((5,5),np.uint8)\n",
    "# Erosion\n",
    "erosion = cv.erode(img, kernel, iterations = 1)\n",
    "# Dilation\n",
    "dilation = cv.dilate(img, kernel, iterations = 1)\n",
    "# Top Hat\n",
    "tophat = cv.morphologyEx(img,cv.MORPH_TOPHAT,kernel)\n",
    "# Blackhat\n",
    "blackhat = cv.morphologyEx(img, cv.MORPH_BLACKHAT, kernel)\n",
    "\n",
    "# show\n",
    "plt.subplot(321),plt.imshow(img),plt.title('Original')\n",
    "plt.xticks([]), plt.yticks([])\n",
    "plt.subplot(322),plt.imshow(erosion),plt.title('Erosion')\n",
    "plt.xticks([]), plt.yticks([])\n",
    "plt.subplot(323),plt.imshow(dilation),plt.title('Dilation')\n",
    "plt.xticks([]), plt.yticks([])\n",
    "plt.subplot(324),plt.imshow(tophat),plt.title('Tophat')\n",
    "plt.xticks([]), plt.yticks([])\n",
    "plt.subplot(325),plt.imshow(blackhat),plt.title('Blackhat')\n",
    "plt.xticks([]), plt.yticks([])\n",
    "plt.show()"
   ]
  },
  {
   "cell_type": "code",
   "execution_count": 14,
   "metadata": {},
   "outputs": [
    {
     "data": {
      "image/png": "[encoded data removed]",
      "text/plain": [
       "<matplotlib.figure.Figure at 0x7fc4bc238b10>"
      ]
     },
     "metadata": {},
     "output_type": "display_data"
    }
   ],
   "source": [
    "img2 = cv.imread('opening.png',0)\n",
    "img3 = cv.imread('closing.png',0)\n",
    "img4 = cv.imread('gradient.png',0)\n",
    "# Opening\n",
    "opening = cv.morphologyEx(img2, cv.MORPH_OPEN,kernel)\n",
    "# Closing\n",
    "closing = cv.morphologyEx(img3, cv.MORPH_CLOSE,kernel)\n",
    "# Gradient\n",
    "gradient = cv.morphologyEx(img4, cv.MORPH_GRADIENT, kernel)\n",
    "\n",
    "plt.subplot(321),plt.imshow(img2),plt.title('Origin')\n",
    "plt.xticks([]), plt.yticks([])\n",
    "plt.subplot(322),plt.imshow(opening),plt.title('Opening')\n",
    "plt.xticks([]), plt.yticks([])\n",
    "plt.subplot(323),plt.imshow(img3),plt.title('Origin')\n",
    "plt.xticks([]), plt.yticks([])\n",
    "plt.subplot(324),plt.imshow(closing),plt.title('Closing')\n",
    "plt.xticks([]), plt.yticks([])\n",
    "plt.subplot(325),plt.imshow(img4),plt.title('Origin')\n",
    "plt.xticks([]), plt.yticks([])\n",
    "plt.subplot(326),plt.imshow(gradient),plt.title('Gradient')\n",
    "plt.xticks([]), plt.yticks([])\n",
    "plt.show()"
   ]
  },
  {
   "cell_type": "code",
   "execution_count": 17,
   "metadata": {},
   "outputs": [
    {
     "data": {
      "text/plain": [
       "array([[1, 1, 1, 1, 1],\n",
       "       [1, 1, 1, 1, 1],\n",
       "       [1, 1, 1, 1, 1],\n",
       "       [1, 1, 1, 1, 1],\n",
       "       [1, 1, 1, 1, 1]], dtype=uint8)"
      ]
     },
     "execution_count": 17,
     "metadata": {},
     "output_type": "execute_result"
    }
   ],
   "source": [
    "cv.getStructuringElement(cv.MORPH_RECT,(5,5))"
   ]
  },
  {
   "cell_type": "code",
   "execution_count": 18,
   "metadata": {},
   "outputs": [
    {
     "data": {
      "text/plain": [
       "array([[0, 0, 1, 0, 0],\n",
       "       [1, 1, 1, 1, 1],\n",
       "       [1, 1, 1, 1, 1],\n",
       "       [1, 1, 1, 1, 1],\n",
       "       [0, 0, 1, 0, 0]], dtype=uint8)"
      ]
     },
     "execution_count": 18,
     "metadata": {},
     "output_type": "execute_result"
    }
   ],
   "source": [
    "cv.getStructuringElement(cv.MORPH_ELLIPSE,(5,5))"
   ]
  },
  {
   "cell_type": "code",
   "execution_count": 19,
   "metadata": {},
   "outputs": [
    {
     "data": {
      "text/plain": [
       "array([[0, 0, 1, 0, 0],\n",
       "       [0, 0, 1, 0, 0],\n",
       "       [1, 1, 1, 1, 1],\n",
       "       [0, 0, 1, 0, 0],\n",
       "       [0, 0, 1, 0, 0]], dtype=uint8)"
      ]
     },
     "execution_count": 19,
     "metadata": {},
     "output_type": "execute_result"
    }
   ],
   "source": [
    "cv.getStructuringElement(cv.MORPH_CROSS,(5,5))"
   ]
  },
  {
   "cell_type": "code",
   "execution_count": null,
   "metadata": {
    "collapsed": true
   },
   "outputs": [],
   "source": []
  }
 ],
 "metadata": {
  "kernelspec": {
   "display_name": "Python 2",
   "language": "python",
   "name": "python2"
  },
  "language_info": {
   "codemirror_mode": {
    "name": "ipython",
    "version": 2
   },
   "file_extension": ".py",
   "mimetype": "text/x-python",
   "name": "python",
   "nbconvert_exporter": "python",
   "pygments_lexer": "ipython2",
   "version": "2.7.13"
  }
 },
 "nbformat": 4,
 "nbformat_minor": 2
}
