{
 "cells": [
  {
   "cell_type": "code",
   "execution_count": 1,
   "metadata": {
    "collapsed": true
   },
   "outputs": [],
   "source": [
    "import cv2 as cv\n",
    "import numpy as np\n",
    "# Loading exposure images into a list\n",
    "img_fn = [\"qxy.jpg\", \"qxy.jpg\", \"qxy.jpg\", \"qxy.jpg\"]\n",
    "img_list = [cv.imread(fn) for fn in img_fn]\n",
    "exposure_times = np.array([15.0, 2.5, 0.25, 0.0333], dtype=np.float32)"
   ]
  },
  {
   "cell_type": "code",
   "execution_count": 2,
   "metadata": {
    "collapsed": true
   },
   "outputs": [],
   "source": [
    "# merge exposures to HDR image\n",
    "merge_debvec = cv.createMergeDebevec()\n",
    "hdr_debvec = merge_debvec.process(img_list,times=exposure_times.copy())\n",
    "merge_robertson = cv.createMergeRobertson()\n",
    "hdr_robertson = merge_robertson.process(img_list,times=exposure_times.copy())"
   ]
  },
  {
   "cell_type": "code",
   "execution_count": 3,
   "metadata": {
    "collapsed": true
   },
   "outputs": [],
   "source": [
    "# Tonemap HDR image\n",
    "tonemap1 = cv.createTonemapDurand(gamma=2.2)\n",
    "res_debvec = tonemap1.process(hdr_debvec.copy())\n",
    "tonemap2 = cv.createTonemapDurand(gamma=1.3)\n",
    "res_robertson = tonemap2.process(hdr_robertson.copy())"
   ]
  },
  {
   "cell_type": "code",
   "execution_count": 4,
   "metadata": {
    "collapsed": true
   },
   "outputs": [],
   "source": [
    "# Exposure fusion using Mertens\n",
    "merge_mertens = cv.createMergeMertens()\n",
    "res_mertens = merge_mertens.process(img_list)"
   ]
  },
  {
   "cell_type": "code",
   "execution_count": 5,
   "metadata": {},
   "outputs": [
    {
     "data": {
      "text/plain": [
       "True"
      ]
     },
     "execution_count": 5,
     "metadata": {},
     "output_type": "execute_result"
    }
   ],
   "source": [
    "# Convert datatype to 8-bit and save\n",
    "res_debvec_8bit = np.clip(res_debvec*255, 0, 255).astype('uint8')\n",
    "res_robertson_8bit = np.clip(res_robertson*255, 0, 255).astype('uint8')\n",
    "res_mertens_8bit = np.clip(res_mertens*255, 0, 255).astype('uint8')\n",
    "cv.imwrite(\"ldr_debvec.jpg\", res_debvec_8bit)\n",
    "cv.imwrite(\"ldr_robertson.jpg\", res_robertson_8bit)\n",
    "cv.imwrite(\"fusion_mertens.jpg\", res_mertens_8bit)"
   ]
  },
  {
   "cell_type": "code",
   "execution_count": 6,
   "metadata": {
    "collapsed": true
   },
   "outputs": [],
   "source": [
    "# Estimate camera response function (CRF)\n",
    "cal_debvec = cv.createCalibrateDebevec()\n",
    "crf_debvec = cal_debvec.process(img_list, times=exposure_times)\n",
    "hdr_debvec = merge_debvec.process(img_list, times=exposure_times.copy(), response=crf_debvec.copy())\n",
    "cal_robertson = cv.createCalibrateRobertson()\n",
    "crf_robertson = cal_robertson.process(img_list, times=exposure_times)\n",
    "hdr_robertson = merge_robertson.process(img_list, times=exposure_times.copy(), response=crf_robertson.copy())"
   ]
  },
  {
   "cell_type": "code",
   "execution_count": null,
   "metadata": {
    "collapsed": true
   },
   "outputs": [],
   "source": []
  }
 ],
 "metadata": {
  "kernelspec": {
   "display_name": "Python 2",
   "language": "python",
   "name": "python2"
  },
  "language_info": {
   "codemirror_mode": {
    "name": "ipython",
    "version": 2
   },
   "file_extension": ".py",
   "mimetype": "text/x-python",
   "name": "python",
   "nbconvert_exporter": "python",
   "pygments_lexer": "ipython2",
   "version": "2.7.13"
  }
 },
 "nbformat": 4,
 "nbformat_minor": 2
}
